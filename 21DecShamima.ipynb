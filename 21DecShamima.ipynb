{
  "nbformat": 4,
  "nbformat_minor": 0,
  "metadata": {
    "colab": {
      "provenance": [],
      "authorship_tag": "ABX9TyNgESKijrJIk8yKoGv9NlfA",
      "include_colab_link": true
    },
    "kernelspec": {
      "name": "python3",
      "display_name": "Python 3"
    },
    "language_info": {
      "name": "python"
    }
  },
  "cells": [
    {
      "cell_type": "markdown",
      "metadata": {
        "id": "view-in-github",
        "colab_type": "text"
      },
      "source": [
        "<a href=\"https://colab.research.google.com/github/Shamima-IT22017/19DecShamimaB5/blob/main/21DecShamima.ipynb\" target=\"_parent\"><img src=\"https://colab.research.google.com/assets/colab-badge.svg\" alt=\"Open In Colab\"/></a>"
      ]
    },
    {
      "cell_type": "code",
      "execution_count": 1,
      "metadata": {
        "colab": {
          "base_uri": "https://localhost:8080/"
        },
        "id": "I8Pmq4HQMlc3",
        "outputId": "0ca18b7d-99b6-4cb2-e380-c7db44c89f61"
      },
      "outputs": [
        {
          "output_type": "stream",
          "name": "stdout",
          "text": [
            "li1 = [2j, (1+3j), (2+4j), (3+5j), (4+6j), (5+7j)]\n",
            "li2 = [(2+4j), (4+6j), (6+8j), (8+10j), (10+12j), (12+14j)]\n",
            "li3 = [(2+6j), (5+9j), (8+12j), (11+15j), (14+18j), (17+21j)]\n",
            "Encoded Message Size (type: <class 'bytes'>): 145\n",
            "List Size (type: <class 'list'>): 120\n",
            "Encoded Message: b'\\xff\\xfe[\\x00(\\x002\\x00+\\x006\\x00j\\x00)\\x00,\\x00 \\x00(\\x005\\x00+\\x009\\x00j\\x00)\\x00,\\x00 \\x00(\\x008\\x00+\\x001\\x002\\x00j\\x00)\\x00,\\x00 \\x00(\\x001\\x001\\x00+\\x001\\x005\\x00j\\x00)\\x00,\\x00 \\x00(\\x001\\x004\\x00+\\x001\\x008\\x00j\\x00)\\x00,\\x00 \\x00(\\x001\\x007\\x00+\\x002\\x001\\x00j\\x00)\\x00]\\x00'\n",
            "Original list after addition: [(2+6j), (5+9j), (8+12j), (11+15j), (14+18j), (17+21j)]\n"
          ]
        }
      ],
      "source": [
        "import sys\n",
        "\n",
        "class ComplexOperations:\n",
        "    def __init__(self):\n",
        "        # Initialize lists\n",
        "        self.li1 = [complex(_, 2 + _) for _ in range(6)]\n",
        "        self.li2 = [complex(_, 2 + _) for _ in range(2, 14, 2)]\n",
        "        self.li3 = []\n",
        "\n",
        "    # Non-static method to add two complex numbers\n",
        "    def add_complex(self, z1, z2):\n",
        "        return z1 + z2\n",
        "\n",
        "    # Non-static method to generate the resulting list\n",
        "    def compute_result(self):\n",
        "        for i, j in zip(self.li1, self.li2):\n",
        "            self.li3.append(self.add_complex(i, j))\n",
        "\n",
        "    # Static method to calculate memory size\n",
        "    @staticmethod\n",
        "    def calculate_size(obj, encoding='utf-16'):\n",
        "        if isinstance(obj, str):\n",
        "            encoded_obj = obj.encode(encoding)\n",
        "            return sys.getsizeof(encoded_obj), encoded_obj\n",
        "        return sys.getsizeof(obj)\n",
        "\n",
        "    # Non-static method to display results\n",
        "    def display_results(self):\n",
        "        print(f\"li1 = {self.li1}\\nli2 = {self.li2}\\nli3 = {self.li3}\")\n",
        "        encoded_message = str(self.li3)\n",
        "        enc_size, enc_obj = ComplexOperations.calculate_size(encoded_message)\n",
        "        list_size = ComplexOperations.calculate_size(self.li3)\n",
        "\n",
        "        print(f\"Encoded Message Size (type: {type(enc_obj)}): {enc_size}\")\n",
        "        print(f\"List Size (type: {type(self.li3)}): {list_size}\")\n",
        "        print(f\"Encoded Message: {enc_obj}\")\n",
        "        print(\"Original list after addition:\", self.li3)\n",
        "\n",
        "# Main method\n",
        "def main():\n",
        "    # Create an object of ComplexOperations\n",
        "    complex_ops = ComplexOperations()\n",
        "\n",
        "    # Compute the result\n",
        "    complex_ops.compute_result()\n",
        "\n",
        "    # Display results\n",
        "    complex_ops.display_results()\n",
        "\n",
        "# Entry point\n",
        "if __name__ == \"__main__\":\n",
        "    main()"
      ]
    },
    {
      "cell_type": "code",
      "source": [
        "import sys  # Import the sys module\n",
        "\n",
        "def addComplex(z1, z2):\n",
        "    return z1 + z2  # Adds two complex numbers and returns the result\n",
        "\n",
        "# Define the lists li1 and li2\n",
        "li1 = [2j, (1+3j), (2+4j), (3+5j), (4+6j), (5+7j)]  # List of complex numbers (real part optional)\n",
        "li2 = [(2+4j), (4+6j), (6+8j), (8+10j), (10+12j), (12+14j)]  # Another list of complex numbers\n",
        "\n",
        "# Create an empty list li3 to store the sum of corresponding elements from li1 and li2\n",
        "li3 = []\n",
        "\n",
        "# Iterate over the lists li1 and li2 and add corresponding complex numbers\n",
        "for i, j in zip(li1, li2):\n",
        "    li3.append(addComplex(i, j))\n",
        "\n",
        "# Print the original lists and the resulting list after addition\n",
        "print(f\"li1 = {li1}\\nli2 = {li2}\\nli3 = {li3}\")\n",
        "\n",
        "# Convert the list li3 to a string and encode it as a UTF-16 byte string\n",
        "enc_mess = bytes(str(li3).encode('utf-16'))\n",
        "\n",
        "# Print the size of the encoded message using sys.getsizeof()\n",
        "print(f\"Encoded Message Size of type {type(enc_mess)}: \", sys.getsizeof(enc_mess))\n",
        "\n",
        "# Print the size of the original list li3\n",
        "print(f\"List Size of type {type(li3)}: \", sys.getsizeof(li3))\n",
        "\n",
        "# Print the size of the string representation of li3\n",
        "print(f\"Encoded Message Size of type {type(str(li3))}: \", sys.getsizeof(str(li3)))\n",
        "\n",
        "# Print the final list after the addition of the complex numbers\n",
        "print(\"Original list after addition\", li3)\n",
        "\n",
        "# Print the encoded message in bytes\n",
        "print(f\"Encoded Message: {enc_mess}\")\n"
      ],
      "metadata": {
        "colab": {
          "base_uri": "https://localhost:8080/"
        },
        "id": "fsyYMv1RPgUg",
        "outputId": "a94d1fbc-d408-4d3a-b1cb-1e1ff7e443db"
      },
      "execution_count": 2,
      "outputs": [
        {
          "output_type": "stream",
          "name": "stdout",
          "text": [
            "li1 = [2j, (1+3j), (2+4j), (3+5j), (4+6j), (5+7j)]\n",
            "li2 = [(2+4j), (4+6j), (6+8j), (8+10j), (10+12j), (12+14j)]\n",
            "li3 = [(2+6j), (5+9j), (8+12j), (11+15j), (14+18j), (17+21j)]\n",
            "Encoded Message Size of type <class 'bytes'>:  145\n",
            "List Size of type <class 'list'>:  120\n",
            "Encoded Message Size of type <class 'str'>:  104\n",
            "Original list after addition [(2+6j), (5+9j), (8+12j), (11+15j), (14+18j), (17+21j)]\n",
            "Encoded Message: b'\\xff\\xfe[\\x00(\\x002\\x00+\\x006\\x00j\\x00)\\x00,\\x00 \\x00(\\x005\\x00+\\x009\\x00j\\x00)\\x00,\\x00 \\x00(\\x008\\x00+\\x001\\x002\\x00j\\x00)\\x00,\\x00 \\x00(\\x001\\x001\\x00+\\x001\\x005\\x00j\\x00)\\x00,\\x00 \\x00(\\x001\\x004\\x00+\\x001\\x008\\x00j\\x00)\\x00,\\x00 \\x00(\\x001\\x007\\x00+\\x002\\x001\\x00j\\x00)\\x00]\\x00'\n"
          ]
        }
      ]
    },
    {
      "cell_type": "markdown",
      "source": [],
      "metadata": {
        "id": "Kn4ijKvMORG1"
      }
    }
  ]
}