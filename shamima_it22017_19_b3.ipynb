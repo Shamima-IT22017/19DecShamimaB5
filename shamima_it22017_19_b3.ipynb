{
  "nbformat": 4,
  "nbformat_minor": 0,
  "metadata": {
    "colab": {
      "provenance": [],
      "mount_file_id": "1I1rbavZ8TdbtYSR9FyFeNZqWDqZaaC4U",
      "authorship_tag": "ABX9TyNazMXjLYXLDWj1YO7U6k44",
      "include_colab_link": true
    },
    "kernelspec": {
      "name": "python3",
      "display_name": "Python 3"
    },
    "language_info": {
      "name": "python"
    }
  },
  "cells": [
    {
      "cell_type": "markdown",
      "metadata": {
        "id": "view-in-github",
        "colab_type": "text"
      },
      "source": [
        "<a href=\"https://colab.research.google.com/github/Shamima-IT22017/19DecShamimaB5/blob/main/shamima_it22017_19_b3.ipynb\" target=\"_parent\"><img src=\"https://colab.research.google.com/assets/colab-badge.svg\" alt=\"Open In Colab\"/></a>"
      ]
    },
    {
      "cell_type": "code",
      "execution_count": null,
      "metadata": {
        "colab": {
          "base_uri": "https://localhost:8080/"
        },
        "id": "Yo82d1_BLWwd",
        "outputId": "58e7aaa8-f9c3-4ebb-e945-259340c312e1"
      },
      "outputs": [
        {
          "output_type": "stream",
          "name": "stdout",
          "text": [
            "Name: John\n",
            "Age: 25\n",
            "Height: 5.9\n"
          ]
        }
      ],
      "source": [
        "\n",
        "name = \"John\"\n",
        "age = 25\n",
        "height = 5.9\n",
        "\n",
        "# Printing the values of the variables\n",
        "print(\"Name:\", name)\n",
        "print(\"Age:\", age)\n",
        "print(\"Height:\", height)\n"
      ]
    },
    {
      "cell_type": "code",
      "source": [],
      "metadata": {
        "id": "V2sFkkZfO_Yk"
      },
      "execution_count": null,
      "outputs": []
    },
    {
      "cell_type": "code",
      "source": [
        "# Integer Data Type\n",
        "age = 25\n",
        "print(\"Age:\", age)\n",
        "print(\"Type of age:\", type(age))\n"
      ],
      "metadata": {
        "colab": {
          "base_uri": "https://localhost:8080/"
        },
        "id": "KgwTPtWKMggd",
        "outputId": "37136ec4-0cd0-4127-ef2f-bff651cc3039"
      },
      "execution_count": null,
      "outputs": [
        {
          "output_type": "stream",
          "name": "stdout",
          "text": [
            "Age: 25\n",
            "Type of age: <class 'int'>\n"
          ]
        }
      ]
    },
    {
      "cell_type": "code",
      "source": [
        "# Assigning numbers to variables\n",
        "a = 15\n",
        "b = 5\n",
        "\n",
        "# Performing basic arithmetic operations\n",
        "sum_result = a + b\n",
        "difference = a - b\n",
        "product = a * b\n",
        "quotient = a / b\n",
        "\n",
        "# Printing the results\n",
        "print(\"Sum:\", sum_result)\n",
        "print(\"Difference:\", difference)\n",
        "print(\"Product:\", product)\n",
        "print(\"Quotient:\", quotient)\n"
      ],
      "metadata": {
        "colab": {
          "base_uri": "https://localhost:8080/"
        },
        "id": "6wiENHGsM3zw",
        "outputId": "248661b8-b417-4518-a9a9-a0a6ffa8da87"
      },
      "execution_count": null,
      "outputs": [
        {
          "output_type": "stream",
          "name": "stdout",
          "text": [
            "Sum: 20\n",
            "Difference: 10\n",
            "Product: 75\n",
            "Quotient: 3.0\n"
          ]
        }
      ]
    }
  ]
}